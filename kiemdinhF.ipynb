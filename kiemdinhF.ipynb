{
  "nbformat": 4,
  "nbformat_minor": 0,
  "metadata": {
    "colab": {
      "name": "kiemdinhF.ipynb",
      "provenance": [],
      "authorship_tag": "ABX9TyPcMWXWqvklut2sXf4Ch/l5",
      "include_colab_link": true
    },
    "kernelspec": {
      "name": "python3",
      "display_name": "Python 3"
    },
    "language_info": {
      "name": "python"
    }
  },
  "cells": [
    {
      "cell_type": "markdown",
      "metadata": {
        "id": "view-in-github",
        "colab_type": "text"
      },
      "source": [
        "<a href=\"https://colab.research.google.com/github/viett887g/kiemdinhF/blob/main/kiemdinhF.ipynb\" target=\"_parent\"><img src=\"https://colab.research.google.com/assets/colab-badge.svg\" alt=\"Open In Colab\"/></a>"
      ]
    },
    {
      "cell_type": "code",
      "execution_count": 2,
      "metadata": {
        "id": "MDn9XQtALzvu"
      },
      "outputs": [],
      "source": [
        "#b1 : tao du lieu\n",
        "x = [18, 19, 22, 25, 27, 28, 41, 45, 51, 55]\n",
        "y = [14, 15, 15, 17, 18, 22, 25, 25, 27, 34]"
      ]
    },
    {
      "cell_type": "code",
      "source": [
        "import numpy as np\n",
        "import scipy.stats\n"
      ],
      "metadata": {
        "id": "bPfha1UAMR4P"
      },
      "execution_count": 9,
      "outputs": []
    },
    {
      "cell_type": "code",
      "source": [
        "def f_test(x, y):\n",
        "  x = np.array(x)\n",
        "  y = np.array(y)\n",
        "  f = np.var(x, ddof=1)/np.var(y, ddof=1)\n",
        "  a = x.size-1\n",
        "  b = y.size-1\t\n",
        "  p = 1-scipy.stats.f.cdf(f, a, b)\n",
        "  return p , f\n",
        "\n",
        "f_test(x, y)\n"
      ],
      "metadata": {
        "colab": {
          "base_uri": "https://localhost:8080/"
        },
        "id": "amO45PnqMlIm",
        "outputId": "c43f2edc-9ad2-412c-bb8d-d8e196dd8ff0"
      },
      "execution_count": 10,
      "outputs": [
        {
          "output_type": "execute_result",
          "data": {
            "text/plain": [
              "(0.01912653593238578, 4.387122002085505)"
            ]
          },
          "metadata": {},
          "execution_count": 10
        }
      ]
    },
    {
      "cell_type": "markdown",
      "source": [
        "Thống kê kiểm định F là 4,38712 và giá trị p tương ứng là 0,019127 . Vì giá  trị p này nhỏ hơn 0,05, chúng ta sẽ bác bỏ giả thuyết không. Tức có đủ bằng chứng để nói rằng hai phương sai dân số không bằng nhau"
      ],
      "metadata": {
        "id": "g1au0h6LNkQE"
      }
    }
  ]
}